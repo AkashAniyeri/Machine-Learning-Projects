{
 "cells": [
  {
   "cell_type": "code",
   "execution_count": 1,
   "id": "86416535-66fd-4a36-8409-b1a99bc7db86",
   "metadata": {},
   "outputs": [],
   "source": [
    "# Import necessary libraries\n",
    "import pandas as pd\n",
    "import numpy as np\n",
    "from sklearn.model_selection import train_test_split\n",
    "from sklearn.preprocessing import StandardScaler\n",
    "from sklearn.metrics import r2_score, mean_squared_error, mean_absolute_error"
   ]
  },
  {
   "cell_type": "code",
   "execution_count": 9,
   "id": "915acda2-cae1-4ae8-93f3-6b5cc3e6f827",
   "metadata": {},
   "outputs": [],
   "source": [
    "# Load the dataset\n",
    "url = \"C:\\\\Users\\\\HP\\\\Downloads\\\\CarPrice_Assignment.csv\"\n",
    "\n",
    "\n",
    "df = pd.read_csv(url)"
   ]
  },
  {
   "cell_type": "code",
   "execution_count": 11,
   "id": "ad3541d2-a3d6-4082-b07c-06bad541a822",
   "metadata": {},
   "outputs": [
    {
     "name": "stdout",
     "output_type": "stream",
     "text": [
      "<class 'pandas.core.frame.DataFrame'>\n",
      "RangeIndex: 205 entries, 0 to 204\n",
      "Data columns (total 26 columns):\n",
      " #   Column            Non-Null Count  Dtype  \n",
      "---  ------            --------------  -----  \n",
      " 0   car_ID            205 non-null    int64  \n",
      " 1   symboling         205 non-null    int64  \n",
      " 2   CarName           205 non-null    object \n",
      " 3   fueltype          205 non-null    object \n",
      " 4   aspiration        205 non-null    object \n",
      " 5   doornumber        205 non-null    object \n",
      " 6   carbody           205 non-null    object \n",
      " 7   drivewheel        205 non-null    object \n",
      " 8   enginelocation    205 non-null    object \n",
      " 9   wheelbase         205 non-null    float64\n",
      " 10  carlength         205 non-null    float64\n",
      " 11  carwidth          205 non-null    float64\n",
      " 12  carheight         205 non-null    float64\n",
      " 13  curbweight        205 non-null    int64  \n",
      " 14  enginetype        205 non-null    object \n",
      " 15  cylindernumber    205 non-null    object \n",
      " 16  enginesize        205 non-null    int64  \n",
      " 17  fuelsystem        205 non-null    object \n",
      " 18  boreratio         205 non-null    float64\n",
      " 19  stroke            205 non-null    float64\n",
      " 20  compressionratio  205 non-null    float64\n",
      " 21  horsepower        205 non-null    int64  \n",
      " 22  peakrpm           205 non-null    int64  \n",
      " 23  citympg           205 non-null    int64  \n",
      " 24  highwaympg        205 non-null    int64  \n",
      " 25  price             205 non-null    float64\n",
      "dtypes: float64(8), int64(8), object(10)\n",
      "memory usage: 41.8+ KB\n",
      "None\n",
      "           car_ID   symboling   wheelbase   carlength    carwidth   carheight  \\\n",
      "count  205.000000  205.000000  205.000000  205.000000  205.000000  205.000000   \n",
      "mean   103.000000    0.834146   98.756585  174.049268   65.907805   53.724878   \n",
      "std     59.322565    1.245307    6.021776   12.337289    2.145204    2.443522   \n",
      "min      1.000000   -2.000000   86.600000  141.100000   60.300000   47.800000   \n",
      "25%     52.000000    0.000000   94.500000  166.300000   64.100000   52.000000   \n",
      "50%    103.000000    1.000000   97.000000  173.200000   65.500000   54.100000   \n",
      "75%    154.000000    2.000000  102.400000  183.100000   66.900000   55.500000   \n",
      "max    205.000000    3.000000  120.900000  208.100000   72.300000   59.800000   \n",
      "\n",
      "        curbweight  enginesize   boreratio      stroke  compressionratio  \\\n",
      "count   205.000000  205.000000  205.000000  205.000000        205.000000   \n",
      "mean   2555.565854  126.907317    3.329756    3.255415         10.142537   \n",
      "std     520.680204   41.642693    0.270844    0.313597          3.972040   \n",
      "min    1488.000000   61.000000    2.540000    2.070000          7.000000   \n",
      "25%    2145.000000   97.000000    3.150000    3.110000          8.600000   \n",
      "50%    2414.000000  120.000000    3.310000    3.290000          9.000000   \n",
      "75%    2935.000000  141.000000    3.580000    3.410000          9.400000   \n",
      "max    4066.000000  326.000000    3.940000    4.170000         23.000000   \n",
      "\n",
      "       horsepower      peakrpm     citympg  highwaympg         price  \n",
      "count  205.000000   205.000000  205.000000  205.000000    205.000000  \n",
      "mean   104.117073  5125.121951   25.219512   30.751220  13276.710571  \n",
      "std     39.544167   476.985643    6.542142    6.886443   7988.852332  \n",
      "min     48.000000  4150.000000   13.000000   16.000000   5118.000000  \n",
      "25%     70.000000  4800.000000   19.000000   25.000000   7788.000000  \n",
      "50%     95.000000  5200.000000   24.000000   30.000000  10295.000000  \n",
      "75%    116.000000  5500.000000   30.000000   34.000000  16503.000000  \n",
      "max    288.000000  6600.000000   49.000000   54.000000  45400.000000  \n"
     ]
    }
   ],
   "source": [
    "# Display basic information and summary statistics\n",
    "print(df.info())\n",
    "print(df.describe())"
   ]
  },
  {
   "cell_type": "code",
   "execution_count": 13,
   "id": "765bef7c-0bbf-4d18-b504-9b6928f47932",
   "metadata": {},
   "outputs": [],
   "source": [
    "# Drop irrelevant columns and handle missing values (customize based on your dataset)\n",
    "df.dropna(inplace=True)  \n"
   ]
  },
  {
   "cell_type": "code",
   "execution_count": 15,
   "id": "5c0e0b6b-5d8c-4a61-99d9-9f1e0f2a2050",
   "metadata": {},
   "outputs": [],
   "source": [
    "# Encoding categorical variables if present\n",
    "df = pd.get_dummies(df, drop_first=True)"
   ]
  },
  {
   "cell_type": "code",
   "execution_count": 17,
   "id": "efe79947-aec3-422b-b218-2a118bc8ba21",
   "metadata": {},
   "outputs": [],
   "source": [
    "# Feature scaling\n",
    "scaler = StandardScaler()\n",
    "numerical_features = df.select_dtypes(include=['float64', 'int64']).columns\n",
    "df[numerical_features] = scaler.fit_transform(df[numerical_features])"
   ]
  },
  {
   "cell_type": "code",
   "execution_count": 19,
   "id": "112a8b3f-b95e-4b79-9e6d-f86428821b49",
   "metadata": {},
   "outputs": [],
   "source": [
    "# Split the dataset into features and target variable\n",
    "X = df.drop('price', axis=1) \n",
    "y = df['price']\n",
    "X_train, X_test, y_train, y_test = train_test_split(X, y, test_size=0.3, random_state=42)"
   ]
  },
  {
   "cell_type": "code",
   "execution_count": 21,
   "id": "676706d6-efb1-45fe-8e92-35216e93f2d5",
   "metadata": {},
   "outputs": [],
   "source": [
    "from sklearn.linear_model import LinearRegression\n",
    "from sklearn.tree import DecisionTreeRegressor\n",
    "from sklearn.ensemble import RandomForestRegressor, GradientBoostingRegressor\n",
    "from sklearn.svm import SVR\n",
    "\n",
    "# Initialize the models\n",
    "models = {\n",
    "    'Linear Regression': LinearRegression(),\n",
    "    'Decision Tree Regressor': DecisionTreeRegressor(random_state=42),\n",
    "    'Random Forest Regressor': RandomForestRegressor(random_state=42),\n",
    "    'Gradient Boosting Regressor': GradientBoostingRegressor(random_state=42),\n",
    "    'Support Vector Regressor': SVR()\n",
    "}"
   ]
  },
  {
   "cell_type": "code",
   "execution_count": 25,
   "id": "14d72ebe-f16e-47ce-b009-a620583ed11f",
   "metadata": {},
   "outputs": [],
   "source": [
    "# Initialize the models\n",
    "models = {\n",
    "    'Linear Regression': LinearRegression(),\n",
    "    'Decision Tree Regressor': DecisionTreeRegressor(random_state=42),\n",
    "    'Random Forest Regressor': RandomForestRegressor(random_state=42),\n",
    "    'Gradient Boosting Regressor': GradientBoostingRegressor(random_state=42),\n",
    "    'Support Vector Regressor': SVR()\n",
    "}"
   ]
  },
  {
   "cell_type": "code",
   "execution_count": 27,
   "id": "eddc2cf2-d0a7-4eeb-bd6a-3a87ef45af4b",
   "metadata": {},
   "outputs": [],
   "source": [
    "# Train each model and store results\n",
    "model_performance = {}\n",
    "\n",
    "for model_name, model in models.items():\n",
    "    model.fit(X_train, y_train)\n",
    "    y_pred = model.predict(X_test)\n",
    "    model_performance[model_name] = {\n",
    "        'R-squared': r2_score(y_test, y_pred),\n",
    "        'MSE': mean_squared_error(y_test, y_pred),\n",
    "        'MAE': mean_absolute_error(y_test, y_pred)\n",
    "    }"
   ]
  },
  {
   "cell_type": "code",
   "execution_count": 29,
   "id": "c1d2b35f-f5da-4c8b-86db-494be5d94c8b",
   "metadata": {},
   "outputs": [
    {
     "name": "stdout",
     "output_type": "stream",
     "text": [
      "                             R-squared       MSE       MAE\n",
      "Linear Regression            -1.835248  3.093010  1.064698\n",
      "Decision Tree Regressor       0.862314  0.150204  0.265689\n",
      "Random Forest Regressor       0.940599  0.064801  0.180743\n",
      "Gradient Boosting Regressor   0.923781  0.083148  0.202019\n",
      "Support Vector Regressor      0.855732  0.157384  0.275968\n"
     ]
    }
   ],
   "source": [
    "# Display model performance\n",
    "model_performance_df = pd.DataFrame(model_performance).T\n",
    "print(model_performance_df)"
   ]
  },
  {
   "cell_type": "code",
   "execution_count": 31,
   "id": "1da4d5b1-4a88-40eb-acaf-f35b7f828e03",
   "metadata": {},
   "outputs": [],
   "source": [
    "# For Random Forest Regressor feature importance\n",
    "rf_model = models['Random Forest Regressor']\n",
    "importances = rf_model.feature_importances_"
   ]
  },
  {
   "cell_type": "code",
   "execution_count": 33,
   "id": "e892e851-4588-476b-b808-35097e381234",
   "metadata": {},
   "outputs": [
    {
     "name": "stdout",
     "output_type": "stream",
     "text": [
      "                               Feature  Importance\n",
      "7                           enginesize    0.631010\n",
      "6                           curbweight    0.153259\n",
      "14                          highwaympg    0.109254\n",
      "11                          horsepower    0.024475\n",
      "0                               car_ID    0.012151\n",
      "..                                 ...         ...\n",
      "85                 CarName_nissan dayz    0.000000\n",
      "97                CarName_nissan titan    0.000000\n",
      "48           CarName_dodge monaco (sw)    0.000000\n",
      "45   CarName_dodge coronet custom (sw)    0.000000\n",
      "110             CarName_porsche boxter    0.000000\n",
      "\n",
      "[190 rows x 2 columns]\n"
     ]
    }
   ],
   "source": [
    "# Creating a DataFrame for feature importance\n",
    "feature_importance_df = pd.DataFrame({\n",
    "    'Feature': X.columns,\n",
    "    'Importance': importances\n",
    "}).sort_values(by='Importance', ascending=False)\n",
    "\n",
    "print(feature_importance_df)"
   ]
  },
  {
   "cell_type": "code",
   "execution_count": 35,
   "id": "46044a66-2320-437b-a62b-27c27d726d41",
   "metadata": {},
   "outputs": [
    {
     "name": "stdout",
     "output_type": "stream",
     "text": [
      "Best parameters found: {'max_depth': None, 'min_samples_split': 2, 'n_estimators': 100}\n",
      "Best R-squared score: 0.894231961918929\n"
     ]
    }
   ],
   "source": [
    "from sklearn.model_selection import GridSearchCV\n",
    "\n",
    "# Example: Hyperparameter tuning for Random Forest Regressor\n",
    "param_grid = {\n",
    "    'n_estimators': [100, 200, 300],\n",
    "    'max_depth': [None, 10, 20, 30],\n",
    "    'min_samples_split': [2, 5, 10]\n",
    "}\n",
    "\n",
    "grid_search = GridSearchCV(RandomForestRegressor(random_state=42), param_grid, cv=5, scoring='r2', n_jobs=-1)\n",
    "grid_search.fit(X_train, y_train)\n",
    "\n",
    "print(\"Best parameters found:\", grid_search.best_params_)\n",
    "print(\"Best R-squared score:\", grid_search.best_score_)"
   ]
  },
  {
   "cell_type": "code",
   "execution_count": 36,
   "id": "fee6b8be-e920-4f51-93de-47452f47d35b",
   "metadata": {},
   "outputs": [
    {
     "name": "stdout",
     "output_type": "stream",
     "text": [
      "Final R-squared: 0.9405990768228465\n"
     ]
    }
   ],
   "source": [
    "# Train final model with best parameters if needed\n",
    "best_rf_model = grid_search.best_estimator_\n",
    "best_rf_model.fit(X_train, y_train)\n",
    "y_pred_best = best_rf_model.predict(X_test)\n",
    "print(\"Final R-squared:\", r2_score(y_test, y_pred_best))"
   ]
  },
  {
   "cell_type": "code",
   "execution_count": null,
   "id": "e022939f-4168-4e20-8f41-eecc121af5be",
   "metadata": {},
   "outputs": [],
   "source": []
  }
 ],
 "metadata": {
  "kernelspec": {
   "display_name": "Python 3 (ipykernel)",
   "language": "python",
   "name": "python3"
  },
  "language_info": {
   "codemirror_mode": {
    "name": "ipython",
    "version": 3
   },
   "file_extension": ".py",
   "mimetype": "text/x-python",
   "name": "python",
   "nbconvert_exporter": "python",
   "pygments_lexer": "ipython3",
   "version": "3.12.4"
  }
 },
 "nbformat": 4,
 "nbformat_minor": 5
}
